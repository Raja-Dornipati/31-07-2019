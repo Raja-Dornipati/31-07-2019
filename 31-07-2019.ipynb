{
 "cells": [
  {
   "cell_type": "markdown",
   "metadata": {},
   "source": [
    "### Count of given inputs"
   ]
  },
  {
   "cell_type": "code",
   "execution_count": 6,
   "metadata": {},
   "outputs": [
    {
     "name": "stdout",
     "output_type": "stream",
     "text": [
      "Enter a number to create strings: 6\n",
      "Enter a string: abcd\n",
      "Enter a string: ijkl\n",
      "Enter a string: abcd\n",
      "Enter a string: pqrs\n",
      "Enter a string: abcd\n",
      "Enter a string: ijkl\n",
      "abcd    3\n",
      "ijkl    2\n",
      "pqrs    1\n",
      "dtype: int64\n"
     ]
    }
   ],
   "source": [
    "import pandas as pd\n",
    "words=[]\n",
    "n=int(input(\"Enter a number to create strings: \"))\n",
    "for i in range(0,n):\n",
    "    string=input(\"Enter a string: \")\n",
    "    words.append(string)\n",
    "print(pd.value_counts(words))\n",
    "    "
   ]
  },
  {
   "cell_type": "markdown",
   "metadata": {},
   "source": [
    "### Validation of E-mail"
   ]
  },
  {
   "cell_type": "code",
   "execution_count": 5,
   "metadata": {},
   "outputs": [
    {
     "name": "stdout",
     "output_type": "stream",
     "text": [
      "Enter number of mails to create: 1\n",
      "Enter mail id : raja.narayana08@gmail.com\n",
      "Valid\n"
     ]
    }
   ],
   "source": [
    "import re\n",
    "def emailID(email):\n",
    "    pattern = '^[0-9a-z][0-9a-z_.]{5,30}[@][a-z0-9]{3,18}[.][a-z]{2,4}$'\n",
    "    if re.match(pattern,email):\n",
    "        print(\"Valid\")\n",
    "    else:\n",
    "        print(\"Invalid\")\n",
    "n=int(input(\"Enter number of mails to create: \"))\n",
    "for i in range(0,n):\n",
    "    email=input(\"Enter mail id : \")\n",
    "    emailID(email)"
   ]
  },
  {
   "cell_type": "code",
   "execution_count": 13,
   "metadata": {},
   "outputs": [
    {
     "name": "stdout",
     "output_type": "stream",
     "text": [
      "Enter a number to create strings: 2\n",
      "Enter a string: acd\n",
      "0\n",
      "Enter a string: acd\n",
      "0\n"
     ]
    }
   ],
   "source": [
    "import pandas as pd\n",
    "words=[]\n",
    "n=int(input(\"Enter a number to create strings: \"))\n",
    "for i in range(0,n):\n",
    "    string=input(\"Enter a string: \")\n",
    "    words.append(string)\n",
    "print(words.count(words))\n",
    "    "
   ]
  },
  {
   "cell_type": "markdown",
   "metadata": {},
   "source": [
    "### Subset of an array"
   ]
  },
  {
   "cell_type": "code",
   "execution_count": 1,
   "metadata": {},
   "outputs": [
    {
     "name": "stdout",
     "output_type": "stream",
     "text": [
      "3\n"
     ]
    }
   ],
   "source": [
    "def subset(arr, N, K): \n",
    "    f = [0 for i in range(K)] \n",
    "    \n",
    "    for i in range(N): \n",
    "        f[arr[i] % K] += 1\n",
    "        \n",
    "    if (K % 2 == 0): \n",
    "        f[K/2] = min(f[K / 2], 1) \n",
    "  \n",
    "    res = min(f[0], 1) \n",
    "  \n",
    "    for i in range(1,(K // 2) + 1): \n",
    "        res += max(f[i], f[K - i]) \n",
    "  \n",
    "    return res \n",
    "      \n",
    "arr = [1,7,2,4] \n",
    "N = len(arr) \n",
    "K = 3\n",
    "print(subset(arr, N, K)) "
   ]
  },
  {
   "cell_type": "markdown",
   "metadata": {},
   "source": [
    "### Addition of two matrices"
   ]
  },
  {
   "cell_type": "code",
   "execution_count": 17,
   "metadata": {},
   "outputs": [
    {
     "name": "stdout",
     "output_type": "stream",
     "text": [
      "[[ 90 111  24]\n",
      " [120  90 153]\n",
      " [ 57 141  86]]\n"
     ]
    }
   ],
   "source": [
    "import numpy as np\n",
    "matrix1=np.array([[12,13,14],[75,25,78],[12,65,48]])\n",
    "matrix2=np.array([[78,98,10],[45,65,75],[45,76,38]])\n",
    "print(np.add(matrix1,matrix2))"
   ]
  },
  {
   "cell_type": "markdown",
   "metadata": {},
   "source": [
    "### Removing punctuations from a string"
   ]
  },
  {
   "cell_type": "code",
   "execution_count": 4,
   "metadata": {},
   "outputs": [
    {
     "name": "stdout",
     "output_type": "stream",
     "text": [
      "Enter a string*raja%narayana(murhty)\n",
      "rajanarayanamurhty\n"
     ]
    }
   ],
   "source": [
    "string=input(\"Enter a string\")\n",
    "punctuations = '''!()-[]{};:'\"\\,<>./?@#$%^&*_~'''\n",
    "for x in string.lower(): \n",
    "    if x in punctuations: \n",
    "        string = string.replace(x, \"\") \n",
    "print(string)"
   ]
  },
  {
   "cell_type": "markdown",
   "metadata": {},
   "source": [
    "### transpose of a matrix"
   ]
  },
  {
   "cell_type": "code",
   "execution_count": 11,
   "metadata": {},
   "outputs": [
    {
     "name": "stdout",
     "output_type": "stream",
     "text": [
      "[[12 75 12]\n",
      " [13 25 65]\n",
      " [14 78 48]]\n"
     ]
    }
   ],
   "source": [
    "import numpy as np\n",
    "matrix1=np.array([[12,13,14],[75,25,78],[12,65,48]])\n",
    "print(matrix1.T)"
   ]
  },
  {
   "cell_type": "markdown",
   "metadata": {},
   "source": [
    "### Disarium Number in python\n",
    "* Disarium number --- A number is said to be the Disarium number when the sum of its digit raised to the power of their respective positions becomes equal to the number itself.\n",
    "* Example : 1^1+ 7^2 + 5^3 = 1+ 49 + 125 = 175"
   ]
  },
  {
   "cell_type": "code",
   "execution_count": 6,
   "metadata": {},
   "outputs": [
    {
     "name": "stdout",
     "output_type": "stream",
     "text": [
      "Enter a number : 175\n",
      "175 is a disarium number\n"
     ]
    }
   ],
   "source": [
    "def Length(n):    \n",
    "    length = 0    \n",
    "    while(n != 0):    \n",
    "        length = length + 1\n",
    "        n = n//10    \n",
    "    return length    \n",
    "     \n",
    "num = int(input(\"Enter a number : \"))  \n",
    "rem = 0\n",
    "sum = 0\n",
    "len = Length(num)\n",
    "n = num   \n",
    "       \n",
    "while(num > 0):    \n",
    "    rem = num%10\n",
    "    sum = sum + (rem**len)\n",
    "    num = num//10\n",
    "    len = len - 1      \n",
    "if(sum == n):    \n",
    "    print(str(n) + \" is a disarium number\")\n",
    "else:    \n",
    "    print(str(n) + \" is not a disarium number\")"
   ]
  },
  {
   "cell_type": "code",
   "execution_count": null,
   "metadata": {},
   "outputs": [],
   "source": []
  }
 ],
 "metadata": {
  "kernelspec": {
   "display_name": "Python 3",
   "language": "python",
   "name": "python3"
  },
  "language_info": {
   "codemirror_mode": {
    "name": "ipython",
    "version": 3
   },
   "file_extension": ".py",
   "mimetype": "text/x-python",
   "name": "python",
   "nbconvert_exporter": "python",
   "pygments_lexer": "ipython3",
   "version": "3.6.5"
  }
 },
 "nbformat": 4,
 "nbformat_minor": 2
}
